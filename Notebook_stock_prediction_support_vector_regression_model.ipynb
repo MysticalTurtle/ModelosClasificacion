{
  "metadata": {
    "language_info": {
      "name": "python",
      "version": "3.6.6",
      "mimetype": "text/x-python",
      "codemirror_mode": {
        "name": "ipython",
        "version": 3
      },
      "pygments_lexer": "ipython3",
      "nbconvert_exporter": "python",
      "file_extension": ".py"
    },
    "kernelspec": {
      "display_name": "Python 3",
      "language": "python",
      "name": "python3"
    },
    "colab": {
      "name": "Notebook_stock_prediction_support_vector_regression_model.ipynb",
      "provenance": []
    }
  },
  "nbformat_minor": 0,
  "nbformat": 4,
  "cells": [
    {
      "cell_type": "markdown",
      "source": [
        "###Support Vector Regression Models, (Lineal, Polinomial, RBF)"
      ],
      "metadata": {
        "id": "DrAR70HJDUZQ"
      }
    },
    {
      "cell_type": "markdown",
      "source": [
        "####Importamos las librerias a usar"
      ],
      "metadata": {
        "id": "JMmjL1LMDq9j"
      }
    },
    {
      "cell_type": "code",
      "source": [
        "import csv\n",
        "import pandas as pd\n",
        "import numpy as np\n",
        "from sklearn.svm import SVR\n",
        "import matplotlib.pyplot as plt\n",
        "\n",
        "#Leemos la data desde la misma carpeta\n",
        "data = pd.read_csv('./MSFT.csv')\n",
        "data = data.head(20)\n",
        "\n",
        "\n",
        "#Definimos arrays para 'dfdates' y 'dfprices'\n",
        "dfdates  = []\n",
        "dfprices = []\n"
      ],
      "metadata": {
        "_kg_hide-input": false,
        "jupyter": {
          "outputs_hidden": false
        },
        "id": "WUgR1cSGCqNZ"
      },
      "execution_count": 8,
      "outputs": []
    },
    {
      "cell_type": "markdown",
      "source": [
        "####Funciones para trabajar con nuestra data"
      ],
      "metadata": {
        "id": "ReEch1dSEvkI"
      }
    },
    {
      "cell_type": "code",
      "source": [
        "#Funcion para trabajar con pandas\n",
        "def gd(dataframe):\n",
        "    i = 1.0\n",
        "    while i < len(dataframe):\n",
        "        a = dataframe.xs(i)\n",
        "        #print(a)\n",
        "        dfdates.append(i)\n",
        "        #print(dates)\n",
        "        dfprices.append(a[1])\n",
        "        i += 1\n",
        "    return\n",
        "\n",
        "\n",
        "#Funcion para trabajar localmente con archivos csv\n",
        "def get_data(filename):\n",
        "    with open(filename, 'r') as csvfile:\n",
        "        csvFileReader = csv.reader(csvfile)\n",
        "        next(csvFileReader)\t# skipping column names\n",
        "        i = 1.0\n",
        "        for row in csvFileReader:\n",
        "            csvdates.append(i)\n",
        "            #print(dates)\n",
        "            csvprices.append(float(row[1]))\n",
        "            i += 1\n",
        "    return"
      ],
      "metadata": {
        "id": "1y51NQTwExyV"
      },
      "execution_count": 9,
      "outputs": []
    },
    {
      "cell_type": "markdown",
      "source": [
        "####Función predictora"
      ],
      "metadata": {
        "id": "-_4L4pcOErgy"
      }
    },
    {
      "cell_type": "code",
      "source": [
        "#Funcion predictora de precios\n",
        "def predict_prices(dates, prices, x):\n",
        "    dates = np.reshape(dates,(len(dates), 1)) # converting to matrix of n X 1\n",
        "\n",
        "    svr_lin = SVR(kernel= 'linear', C= 1e3)\n",
        "    svr_poly = SVR(kernel= 'poly', C= 1e3, degree= 2)\n",
        "    svr_rbf = SVR(kernel= 'rbf', C= 1e3, gamma= 0.1) # defining the support vector regression models\n",
        "    svr_rbf.fit(dates, prices) # fitting the data points in the models\n",
        "    svr_lin.fit(dates, prices)\n",
        "    svr_poly.fit(dates, prices)\n",
        "\n",
        "    plt.scatter(dates, prices, color= 'black', label= 'Data') # plotting the initial datapoints\n",
        "    plt.plot(dates, svr_rbf.predict(dates), color= 'red', label= 'RBF model') # plotting the line made by the RBF kernel\n",
        "    plt.plot(dates,svr_lin.predict(dates), color= 'green', label= 'Linear model') # plotting the line made by linear kernel\n",
        "    plt.plot(dates,svr_poly.predict(dates), color= 'blue', label= 'Polynomial model') # plotting the line made by polynomial kernel\n",
        "    plt.xlabel('Date')\n",
        "    plt.ylabel('Price')\n",
        "    plt.title('Support Vector Regression')\n",
        "    plt.legend()\n",
        "    plt.show()\n",
        "\n",
        "    #Retornamos los precios predecidos según la fecha\n",
        "    return svr_rbf.predict(dates)[0], svr_lin.predict(dates)[0], svr_poly.predict(dates)[0]\n"
      ],
      "metadata": {
        "id": "ls9wOeX0Enm2"
      },
      "execution_count": 10,
      "outputs": []
    },
    {
      "cell_type": "markdown",
      "source": [
        "####Hacemos la predicción y mostramos los valores finales"
      ],
      "metadata": {
        "id": "kXjbWY6nEih3"
      }
    },
    {
      "cell_type": "code",
      "source": [
        "gd(data)\n",
        "\n",
        "#La lista de precios a la inversa\n",
        "dfprices.reverse()\n",
        "\n",
        "#Modelo de entrenamiento\n",
        "\n",
        "predicted_price = predict_prices(dfdates, dfprices, 20)\n",
        "\n",
        "#Imprimimos los valores que nos devuelve la función predicitora\n",
        "print(\"RBF:\", predicted_price[0],\"LIN:\", predicted_price[1],\"POLY:\", predicted_price[2])"
      ],
      "metadata": {
        "colab": {
          "base_uri": "https://localhost:8080/",
          "height": 313
        },
        "id": "WQFI2TuCEe0Q",
        "outputId": "3a74c7b2-2541-42d2-a552-fe14cb1c7d3f"
      },
      "execution_count": 11,
      "outputs": [
        {
          "output_type": "display_data",
          "data": {
            "text/plain": [
              "<Figure size 432x288 with 1 Axes>"
            ],
            "image/png": "[encoded data removed]"
          },
          "metadata": {
            "needs_background": "light"
          }
        },
        {
          "output_type": "stream",
          "name": "stdout",
          "text": [
            "RBF: 299.6197862358488 LIN: 292.1533253333329 POLY: 289.95783078316305\n"
          ]
        }
      ]
    }
  ]
}